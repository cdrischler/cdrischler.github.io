{
 "cells": [
  {
   "cell_type": "markdown",
   "metadata": {},
   "source": [
    "# Leaflet cluster map of talk locations\n",
    "\n",
    "Run this from the _talks/ directory, which contains .md files of all your talks. This scrapes the location YAML field from each .md file, geolocates it with geopy/Nominatim, and uses the getorg library to output data, HTML, and Javascript for a standalone cluster map."
   ]
  },
  {
   "cell_type": "code",
   "execution_count": 1,
   "metadata": {
    "collapsed": false
   },
   "outputs": [
    {
     "name": "stdout",
     "output_type": "stream",
     "text": [
      "Requirement already satisfied: getorg in /usr/local/lib/python3.11/site-packages (0.3.1)\n",
      "Requirement already satisfied: geopy in /usr/local/lib/python3.11/site-packages (from getorg) (2.4.1)\n",
      "Requirement already satisfied: pygithub in /usr/local/lib/python3.11/site-packages (from getorg) (2.5.0)\n",
      "Requirement already satisfied: retrying in /usr/local/lib/python3.11/site-packages (from getorg) (1.3.4)\n",
      "Requirement already satisfied: geographiclib<3,>=1.52 in /usr/local/lib/python3.11/site-packages (from geopy->getorg) (2.0)\n",
      "Requirement already satisfied: pynacl>=1.4.0 in /usr/local/lib/python3.11/site-packages (from pygithub->getorg) (1.5.0)\n",
      "Requirement already satisfied: requests>=2.14.0 in /usr/local/lib/python3.11/site-packages (from pygithub->getorg) (2.32.3)\n",
      "Requirement already satisfied: pyjwt>=2.4.0 in /usr/local/lib/python3.11/site-packages (from pyjwt[crypto]>=2.4.0->pygithub->getorg) (2.10.1)\n",
      "Requirement already satisfied: typing-extensions>=4.0.0 in /usr/local/lib/python3.11/site-packages (from pygithub->getorg) (4.12.2)\n",
      "Requirement already satisfied: urllib3>=1.26.0 in /usr/local/lib/python3.11/site-packages (from pygithub->getorg) (2.3.0)\n",
      "Requirement already satisfied: Deprecated in /usr/local/lib/python3.11/site-packages (from pygithub->getorg) (1.2.18)\n",
      "Requirement already satisfied: six>=1.7.0 in /usr/local/lib/python3.11/site-packages (from retrying->getorg) (1.16.0)\n",
      "Requirement already satisfied: cryptography>=3.4.0 in /usr/local/lib/python3.11/site-packages (from pyjwt[crypto]>=2.4.0->pygithub->getorg) (41.0.5)\n",
      "Requirement already satisfied: cffi>=1.4.1 in /usr/local/lib/python3.11/site-packages (from pynacl>=1.4.0->pygithub->getorg) (1.15.1)\n",
      "Requirement already satisfied: charset-normalizer<4,>=2 in /usr/local/lib/python3.11/site-packages (from requests>=2.14.0->pygithub->getorg) (3.4.1)\n",
      "Requirement already satisfied: idna<4,>=2.5 in /usr/local/lib/python3.11/site-packages (from requests>=2.14.0->pygithub->getorg) (3.4)\n",
      "Requirement already satisfied: certifi>=2017.4.17 in /usr/local/lib/python3.11/site-packages (from requests>=2.14.0->pygithub->getorg) (2025.1.31)\n",
      "Requirement already satisfied: wrapt<2,>=1.10 in /usr/local/lib/python3.11/site-packages (from Deprecated->pygithub->getorg) (1.17.2)\n",
      "Requirement already satisfied: pycparser in /usr/local/lib/python3.11/site-packages (from cffi>=1.4.1->pynacl>=1.4.0->pygithub->getorg) (2.21)\n",
      "\n",
      "\u001b[1m[\u001b[0m\u001b[34;49mnotice\u001b[0m\u001b[1;39;49m]\u001b[0m\u001b[39;49m A new release of pip is available: \u001b[0m\u001b[31;49m24.3.1\u001b[0m\u001b[39;49m -> \u001b[0m\u001b[32;49m25.0\u001b[0m\n",
      "\u001b[1m[\u001b[0m\u001b[34;49mnotice\u001b[0m\u001b[1;39;49m]\u001b[0m\u001b[39;49m To update, run: \u001b[0m\u001b[32;49mpython3.11 -m pip install --upgrade pip\u001b[0m\n"
     ]
    },
    {
     "name": "stderr",
     "output_type": "stream",
     "text": [
      "/Users/cdrischler/Library/Python/3.9/lib/python/site-packages/urllib3/__init__.py:35: NotOpenSSLWarning: urllib3 v2 only supports OpenSSL 1.1.1+, currently the 'ssl' module is compiled with 'LibreSSL 2.8.3'. See: https://github.com/urllib3/urllib3/issues/3020\n",
      "  warnings.warn(\n"
     ]
    },
    {
     "name": "stdout",
     "output_type": "stream",
     "text": [
      "IPywidgets and ipyleaflet support enabled.\n"
     ]
    }
   ],
   "source": [
    "!pip install getorg --upgrade\n",
    "import glob\n",
    "import getorg\n",
    "from geopy import Nominatim"
   ]
  },
  {
   "cell_type": "code",
   "execution_count": 4,
   "metadata": {},
   "outputs": [
    {
     "name": "stdout",
     "output_type": "stream",
     "text": [
      "Defaulting to user installation because normal site-packages is not writeable\n",
      "Collecting getorg\n",
      "  Downloading getorg-0.3.1-py2.py3-none-any.whl (39 kB)\n",
      "Collecting ipyleaflet\n",
      "  Downloading ipyleaflet-0.19.2-py3-none-any.whl (31 kB)\n",
      "Collecting pygithub\n",
      "  Downloading PyGithub-2.5.0-py3-none-any.whl (375 kB)\n",
      "\u001b[K     |████████████████████████████████| 375 kB 4.5 MB/s eta 0:00:01\n",
      "\u001b[?25hCollecting retrying\n",
      "  Downloading retrying-1.3.4-py3-none-any.whl (11 kB)\n",
      "Collecting geopy\n",
      "  Downloading geopy-2.4.1-py3-none-any.whl (125 kB)\n",
      "\u001b[K     |████████████████████████████████| 125 kB 19.8 MB/s eta 0:00:01\n",
      "\u001b[?25hCollecting xyzservices>=2021.8.1\n",
      "  Downloading xyzservices-2025.1.0-py3-none-any.whl (88 kB)\n",
      "\u001b[K     |████████████████████████████████| 88 kB 15.6 MB/s eta 0:00:01\n",
      "\u001b[?25hCollecting traittypes<3,>=0.2.1\n",
      "  Downloading traittypes-0.2.1-py2.py3-none-any.whl (8.6 kB)\n",
      "Collecting jupyter-leaflet<0.20,>=0.19\n",
      "  Downloading jupyter_leaflet-0.19.2-py3-none-any.whl (1.1 MB)\n",
      "\u001b[K     |████████████████████████████████| 1.1 MB 18.5 MB/s eta 0:00:01\n",
      "\u001b[?25hCollecting ipywidgets<9,>=7.6.0\n",
      "  Downloading ipywidgets-8.1.5-py3-none-any.whl (139 kB)\n",
      "\u001b[K     |████████████████████████████████| 139 kB 20.1 MB/s eta 0:00:01\n",
      "\u001b[?25hCollecting branca>=0.5.0\n",
      "  Downloading branca-0.8.1-py3-none-any.whl (26 kB)\n",
      "Collecting jinja2>=3\n",
      "  Downloading jinja2-3.1.5-py3-none-any.whl (134 kB)\n",
      "\u001b[K     |████████████████████████████████| 134 kB 12.8 MB/s eta 0:00:01\n",
      "\u001b[?25hCollecting jupyterlab-widgets~=3.0.12\n",
      "  Downloading jupyterlab_widgets-3.0.13-py3-none-any.whl (214 kB)\n",
      "\u001b[K     |████████████████████████████████| 214 kB 20.4 MB/s eta 0:00:01\n",
      "\u001b[?25hRequirement already satisfied: traitlets>=4.3.1 in /Users/cdrischler/Library/Python/3.9/lib/python/site-packages (from ipywidgets<9,>=7.6.0->ipyleaflet) (5.14.3)\n",
      "Requirement already satisfied: comm>=0.1.3 in /Users/cdrischler/Library/Python/3.9/lib/python/site-packages (from ipywidgets<9,>=7.6.0->ipyleaflet) (0.2.2)\n",
      "Requirement already satisfied: ipython>=6.1.0 in /Users/cdrischler/Library/Python/3.9/lib/python/site-packages (from ipywidgets<9,>=7.6.0->ipyleaflet) (8.18.1)\n",
      "Collecting widgetsnbextension~=4.0.12\n",
      "  Downloading widgetsnbextension-4.0.13-py3-none-any.whl (2.3 MB)\n",
      "\u001b[K     |████████████████████████████████| 2.3 MB 17.3 MB/s eta 0:00:01\n",
      "\u001b[?25hRequirement already satisfied: pygments>=2.4.0 in /Users/cdrischler/Library/Python/3.9/lib/python/site-packages (from ipython>=6.1.0->ipywidgets<9,>=7.6.0->ipyleaflet) (2.19.1)\n",
      "Requirement already satisfied: pexpect>4.3 in /Users/cdrischler/Library/Python/3.9/lib/python/site-packages (from ipython>=6.1.0->ipywidgets<9,>=7.6.0->ipyleaflet) (4.9.0)\n",
      "Requirement already satisfied: prompt-toolkit<3.1.0,>=3.0.41 in /Users/cdrischler/Library/Python/3.9/lib/python/site-packages (from ipython>=6.1.0->ipywidgets<9,>=7.6.0->ipyleaflet) (3.0.50)\n",
      "Requirement already satisfied: stack-data in /Users/cdrischler/Library/Python/3.9/lib/python/site-packages (from ipython>=6.1.0->ipywidgets<9,>=7.6.0->ipyleaflet) (0.6.3)\n",
      "Requirement already satisfied: exceptiongroup in /Users/cdrischler/Library/Python/3.9/lib/python/site-packages (from ipython>=6.1.0->ipywidgets<9,>=7.6.0->ipyleaflet) (1.2.2)\n",
      "Requirement already satisfied: decorator in /Users/cdrischler/Library/Python/3.9/lib/python/site-packages (from ipython>=6.1.0->ipywidgets<9,>=7.6.0->ipyleaflet) (5.1.1)\n",
      "Requirement already satisfied: jedi>=0.16 in /Users/cdrischler/Library/Python/3.9/lib/python/site-packages (from ipython>=6.1.0->ipywidgets<9,>=7.6.0->ipyleaflet) (0.19.2)\n",
      "Requirement already satisfied: typing-extensions in /Users/cdrischler/Library/Python/3.9/lib/python/site-packages (from ipython>=6.1.0->ipywidgets<9,>=7.6.0->ipyleaflet) (4.12.2)\n",
      "Requirement already satisfied: matplotlib-inline in /Users/cdrischler/Library/Python/3.9/lib/python/site-packages (from ipython>=6.1.0->ipywidgets<9,>=7.6.0->ipyleaflet) (0.1.7)\n",
      "Requirement already satisfied: parso<0.9.0,>=0.8.4 in /Users/cdrischler/Library/Python/3.9/lib/python/site-packages (from jedi>=0.16->ipython>=6.1.0->ipywidgets<9,>=7.6.0->ipyleaflet) (0.8.4)\n",
      "Collecting MarkupSafe>=2.0\n",
      "  Downloading MarkupSafe-3.0.2-cp39-cp39-macosx_10_9_universal2.whl (14 kB)\n",
      "Requirement already satisfied: ptyprocess>=0.5 in /Users/cdrischler/Library/Python/3.9/lib/python/site-packages (from pexpect>4.3->ipython>=6.1.0->ipywidgets<9,>=7.6.0->ipyleaflet) (0.7.0)\n",
      "Requirement already satisfied: wcwidth in /Users/cdrischler/Library/Python/3.9/lib/python/site-packages (from prompt-toolkit<3.1.0,>=3.0.41->ipython>=6.1.0->ipywidgets<9,>=7.6.0->ipyleaflet) (0.2.13)\n",
      "Collecting geographiclib<3,>=1.52\n",
      "  Downloading geographiclib-2.0-py3-none-any.whl (40 kB)\n",
      "\u001b[K     |████████████████████████████████| 40 kB 12.1 MB/s eta 0:00:01\n",
      "\u001b[?25hCollecting pynacl>=1.4.0\n",
      "  Downloading PyNaCl-1.5.0-cp36-abi3-macosx_10_10_universal2.whl (349 kB)\n",
      "\u001b[K     |████████████████████████████████| 349 kB 19.9 MB/s eta 0:00:01\n",
      "\u001b[?25hCollecting Deprecated\n",
      "  Downloading Deprecated-1.2.18-py2.py3-none-any.whl (10.0 kB)\n",
      "Collecting requests>=2.14.0\n",
      "  Downloading requests-2.32.3-py3-none-any.whl (64 kB)\n",
      "\u001b[K     |████████████████████████████████| 64 kB 8.9 MB/s  eta 0:00:01\n",
      "\u001b[?25hCollecting urllib3>=1.26.0\n",
      "  Downloading urllib3-2.3.0-py3-none-any.whl (128 kB)\n",
      "\u001b[K     |████████████████████████████████| 128 kB 18.4 MB/s eta 0:00:01\n",
      "\u001b[?25hCollecting pyjwt[crypto]>=2.4.0\n",
      "  Downloading PyJWT-2.10.1-py3-none-any.whl (22 kB)\n",
      "Collecting cryptography>=3.4.0\n",
      "  Downloading cryptography-44.0.0-cp39-abi3-macosx_10_9_universal2.whl (6.5 MB)\n",
      "\u001b[K     |████████████████████████████████| 6.5 MB 16.9 MB/s eta 0:00:01\n",
      "\u001b[?25hCollecting cffi>=1.12\n",
      "  Downloading cffi-1.17.1-cp39-cp39-macosx_10_9_x86_64.whl (182 kB)\n",
      "\u001b[K     |████████████████████████████████| 182 kB 11.5 MB/s eta 0:00:01\n",
      "\u001b[?25hCollecting pycparser\n",
      "  Downloading pycparser-2.22-py3-none-any.whl (117 kB)\n",
      "\u001b[K     |████████████████████████████████| 117 kB 16.7 MB/s eta 0:00:01\n",
      "\u001b[?25hCollecting idna<4,>=2.5\n",
      "  Downloading idna-3.10-py3-none-any.whl (70 kB)\n",
      "\u001b[K     |████████████████████████████████| 70 kB 9.4 MB/s  eta 0:00:01\n",
      "\u001b[?25hCollecting charset-normalizer<4,>=2\n",
      "  Downloading charset_normalizer-3.4.1-cp39-cp39-macosx_10_9_universal2.whl (197 kB)\n",
      "\u001b[K     |████████████████████████████████| 197 kB 17.4 MB/s eta 0:00:01\n",
      "\u001b[?25hCollecting certifi>=2017.4.17\n",
      "  Downloading certifi-2025.1.31-py3-none-any.whl (166 kB)\n",
      "\u001b[K     |████████████████████████████████| 166 kB 19.0 MB/s eta 0:00:01\n",
      "\u001b[?25hCollecting wrapt<2,>=1.10\n",
      "  Downloading wrapt-1.17.2-cp39-cp39-macosx_10_9_x86_64.whl (38 kB)\n",
      "Requirement already satisfied: six>=1.7.0 in /Applications/Xcode.app/Contents/Developer/Library/Frameworks/Python3.framework/Versions/3.9/lib/python3.9/site-packages (from retrying->getorg) (1.15.0)\n",
      "Requirement already satisfied: pure-eval in /Users/cdrischler/Library/Python/3.9/lib/python/site-packages (from stack-data->ipython>=6.1.0->ipywidgets<9,>=7.6.0->ipyleaflet) (0.2.3)\n",
      "Requirement already satisfied: executing>=1.2.0 in /Users/cdrischler/Library/Python/3.9/lib/python/site-packages (from stack-data->ipython>=6.1.0->ipywidgets<9,>=7.6.0->ipyleaflet) (2.2.0)\n",
      "Requirement already satisfied: asttokens>=2.1.0 in /Users/cdrischler/Library/Python/3.9/lib/python/site-packages (from stack-data->ipython>=6.1.0->ipywidgets<9,>=7.6.0->ipyleaflet) (3.0.0)\n",
      "Installing collected packages: pycparser, cffi, wrapt, urllib3, pyjwt, MarkupSafe, idna, cryptography, charset-normalizer, certifi, widgetsnbextension, requests, pynacl, jupyterlab-widgets, jinja2, geographiclib, Deprecated, xyzservices, traittypes, retrying, pygithub, jupyter-leaflet, ipywidgets, geopy, branca, ipyleaflet, getorg\n",
      "Successfully installed Deprecated-1.2.18 MarkupSafe-3.0.2 branca-0.8.1 certifi-2025.1.31 cffi-1.17.1 charset-normalizer-3.4.1 cryptography-44.0.0 geographiclib-2.0 geopy-2.4.1 getorg-0.3.1 idna-3.10 ipyleaflet-0.19.2 ipywidgets-8.1.5 jinja2-3.1.5 jupyter-leaflet-0.19.2 jupyterlab-widgets-3.0.13 pycparser-2.22 pygithub-2.5.0 pyjwt-2.10.1 pynacl-1.5.0 requests-2.32.3 retrying-1.3.4 traittypes-0.2.1 urllib3-2.3.0 widgetsnbextension-4.0.13 wrapt-1.17.2 xyzservices-2025.1.0\n",
      "\u001b[33mWARNING: You are using pip version 21.2.4; however, version 25.0 is available.\n",
      "You should consider upgrading via the '/Applications/Xcode.app/Contents/Developer/usr/bin/python3 -m pip install --upgrade pip' command.\u001b[0m\n",
      "Note: you may need to restart the kernel to use updated packages.\n"
     ]
    }
   ],
   "source": [
    "%pip install getorg ipyleaflet"
   ]
  },
  {
   "cell_type": "code",
   "execution_count": 2,
   "metadata": {
    "collapsed": false
   },
   "outputs": [],
   "source": [
    "g = glob.glob(\"*.md\")"
   ]
  },
  {
   "cell_type": "code",
   "execution_count": 6,
   "metadata": {
    "collapsed": true
   },
   "outputs": [],
   "source": [
    "geocoder = Nominatim(user_agent=\"my-talks\")\n",
    "location_dict = {}\n",
    "location = \"\"\n",
    "permalink = \"\"\n",
    "title = \"\""
   ]
  },
  {
   "cell_type": "code",
   "execution_count": 32,
   "metadata": {
    "collapsed": false
   },
   "outputs": [
    {
     "ename": "NameError",
     "evalue": "name 'g' is not defined",
     "output_type": "error",
     "traceback": [
      "\u001b[0;31m---------------------------------------------------------------------------\u001b[0m",
      "\u001b[0;31mNameError\u001b[0m                                 Traceback (most recent call last)",
      "Cell \u001b[0;32mIn[32], line 1\u001b[0m\n\u001b[0;32m----> 1\u001b[0m \u001b[38;5;28;01mfor\u001b[39;00m file \u001b[38;5;129;01min\u001b[39;00m \u001b[43mg\u001b[49m:\n\u001b[1;32m      2\u001b[0m     \u001b[38;5;28;01mwith\u001b[39;00m \u001b[38;5;28mopen\u001b[39m(file, \u001b[38;5;124m'\u001b[39m\u001b[38;5;124mr\u001b[39m\u001b[38;5;124m'\u001b[39m) \u001b[38;5;28;01mas\u001b[39;00m f:\n\u001b[1;32m      3\u001b[0m         lines \u001b[38;5;241m=\u001b[39m f\u001b[38;5;241m.\u001b[39mread()\n",
      "\u001b[0;31mNameError\u001b[0m: name 'g' is not defined"
     ]
    }
   ],
   "source": [
    "\n",
    "for file in g:\n",
    "    with open(file, 'r') as f:\n",
    "        lines = f.read()\n",
    "        if lines.find('location: \"') > 1:\n",
    "            loc_start = lines.find('location: \"') + 11\n",
    "            lines_trim = lines[loc_start:]\n",
    "            loc_end = lines_trim.find('\"')\n",
    "            location = lines_trim[:loc_end]\n",
    "                            \n",
    "           \n",
    "        location_dict[location] = geocoder.geocode(location)\n",
    "        print(location, \"\\n\", location_dict[location])\n"
   ]
  },
  {
   "cell_type": "code",
   "execution_count": 7,
   "metadata": {},
   "outputs": [
    {
     "name": "stdout",
     "output_type": "stream",
     "text": [
      "Athens, Ohio, USA\n",
      "Seattle, WA, USA\n",
      "Knoxville, TN, USA\n",
      "East Lansing, MI, USA\n",
      "St. Louis, MO, USA\n",
      "East Lansing, MI, USA\n",
      "East Lansing, MI, USA\n",
      "Seattle, WA, USA\n",
      "Saclay, France\n",
      "Saclay, France\n",
      "Blacksburg, VA, USA\n",
      "East Lansing, MI, USA\n",
      "Athens, OH, USA\n",
      "Blacksburg, VA, USA\n",
      "South Bend, IN, USA\n",
      "Lemont, IL, USA\n",
      "Orlando, FL, USA\n",
      "Seattle, WA, USA\n",
      "Amherst, MA, USA\n",
      "Champaign, IL, USA\n",
      "Athens, OH, USA\n",
      "South Bend, IN, USA\n",
      "Florence, Italy\n",
      "Gothenburg, Sweden\n",
      "Seattle, WA, USA\n",
      "Denver, CO, USA\n",
      "Berkeley, CA, USA\n",
      "Los Alamos, NM, USA\n",
      "Berkeley, CA, USA\n",
      "Darmstadt, Germany\n",
      "Seattle, WA, USA\n",
      "Trento, Italy\n",
      "Palm Springs, CA, USA\n",
      "Palm Springs, CA, USA\n",
      "Saclay, France\n",
      "Berkeley, CA, USA\n",
      "Columbus, OH, USA\n",
      "Athens, OH, USA\n",
      "Athens, OH, USA\n",
      "San Diego, CA, USA\n"
     ]
    }
   ],
   "source": [
    "with open('talk_location_data.txt', 'r') as file:\n",
    "    for line in file:\n",
    "        location = line.strip()\n",
    "        print(location)\n",
    "        location_dict[location] = geocoder.geocode(location)"
   ]
  },
  {
   "cell_type": "code",
   "execution_count": 8,
   "metadata": {
    "collapsed": false
   },
   "outputs": [
    {
     "data": {
      "text/plain": [
       "'Written map to ./talkmap/'"
      ]
     },
     "execution_count": 8,
     "metadata": {},
     "output_type": "execute_result"
    }
   ],
   "source": [
    "m = getorg.orgmap.create_map_obj()\n",
    "getorg.orgmap.output_html_cluster_map(location_dict, folder_name=\"./talkmap\", hashed_usernames=False)"
   ]
  },
  {
   "cell_type": "code",
   "execution_count": 25,
   "metadata": {},
   "outputs": [
    {
     "data": {
      "text/plain": [
       "{'Athens, Ohio, USA': Location(Athens County, Ohio, United States, (39.355589, -82.0610404, 0.0)),\n",
       " 'Seattle, WA, USA': Location(Seattle, King County, Washington, United States, (47.6038321, -122.330062, 0.0)),\n",
       " 'Knoxville, TN, USA': Location(Knoxville, Knox County, East Tennessee, Tennessee, United States, (35.9603948, -83.9210261, 0.0)),\n",
       " 'East Lansing, MI, USA': Location(East Lansing, Ingham County, Michigan, United States, (42.7320307, -84.4721678, 0.0)),\n",
       " 'St. Louis, MO, USA': Location(Saint Louis, Missouri, United States, (38.6280278, -90.1910154, 0.0)),\n",
       " 'Saclay, France': Location(Saclay, Palaiseau, Essonne, France métropolitaine, 91400, France, (48.7305162, 2.172576, 0.0)),\n",
       " 'Blacksburg, VA, USA': Location(Blacksburg, Montgomery County, Virginia, United States, (37.2296566, -80.4136767, 0.0)),\n",
       " 'Athens, OH, USA': Location(Athens County, Ohio, United States, (39.355589, -82.0610404, 0.0)),\n",
       " 'South Bend, IN, USA': Location(South Bend, Saint Joseph County, Indiana, United States, (41.6833813, -86.2500066, 0.0)),\n",
       " 'Lemont, IL, USAc': None,\n",
       " 'Orlando, FL, USA': Location(Orlando, Orange County, Florida, United States, (28.5421109, -81.3790304, 0.0)),\n",
       " 'Champaign, IL, USA': Location(Champaign, Champaign County, Illinois, United States, (40.1164841, -88.2430932, 0.0)),\n",
       " 'Bend, IN, USA': Location(Murphy USA, 3665, Portage Road, South Bend, Saint Joseph County, Indiana, 46628, United States, (41.72667635, -86.29074586754044, 0.0)),\n",
       " 'Florence, Italy': Location(Firenze, Toscana, Italia, (43.7697955, 11.2556404, 0.0)),\n",
       " 'Gothenburg, Sweden': Location(Göteborg, Göteborgs Stad, Västra Götalands län, 411 10, Sverige, (57.7072326, 11.9670171, 0.0)),\n",
       " 'Denver, CO, USA': Location(Denver, Colorado, United States, (39.7392364, -104.984862, 0.0)),\n",
       " 'Berkeley, CA, USA': Location(Berkeley, Alameda County, California, United States, (37.8708393, -122.272863, 0.0)),\n",
       " 'Los Alamos, NM, USA': Location(Los Alamos, Los Alamos County, New Mexico, 87544, United States, (35.88137, -106.298959, 0.0)),\n",
       " 'Darmstadt, Germany': Location(Darmstadt, Hessen, Deutschland, (49.8851869, 8.6736295, 0.0)),\n",
       " 'Trento, Italy': Location(Provincia di Trento, Trentino-Alto Adige/Südtirol, Italia, (46.1029536, 11.12974249416882, 0.0)),\n",
       " 'Palm\\xa0Springs, CA, USA': Location(Palm Springs, Riverside County, California, United States, (33.8246269, -116.540303, 0.0)),\n",
       " 'Columbus, OH, USA': Location(Columbus, Franklin County, Ohio, United States, (39.9622601, -83.0007065, 0.0)),\n",
       " 'San Diego, CA, USA': Location(San Diego, San Diego County, California, United States, (32.7174202, -117.162772, 0.0))}"
      ]
     },
     "execution_count": 25,
     "metadata": {},
     "output_type": "execute_result"
    }
   ],
   "source": [
    "location_dict"
   ]
  },
  {
   "cell_type": "code",
   "execution_count": null,
   "metadata": {},
   "outputs": [],
   "source": []
  }
 ],
 "metadata": {
  "anaconda-cloud": {},
  "kernelspec": {
   "display_name": "Python 3",
   "language": "python",
   "name": "python3"
  },
  "language_info": {
   "codemirror_mode": {
    "name": "ipython",
    "version": 3
   },
   "file_extension": ".py",
   "mimetype": "text/x-python",
   "name": "python",
   "nbconvert_exporter": "python",
   "pygments_lexer": "ipython3",
   "version": "3.9.6"
  }
 },
 "nbformat": 4,
 "nbformat_minor": 0
}
